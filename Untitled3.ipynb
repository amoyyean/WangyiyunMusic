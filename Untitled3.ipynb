{
 "cells": [
  {
   "cell_type": "code",
   "execution_count": 1,
   "metadata": {
    "collapsed": true
   },
   "outputs": [],
   "source": [
    "import pymongo\n",
    "import pandas as pd\n",
    "import numpy as np\n",
    "import matplotlib.pyplot as plt\n",
    "from pylab import mpl  \n",
    "mpl.rcParams['font.sans-serif'] = ['SimHei'] "
   ]
  },
  {
   "cell_type": "code",
   "execution_count": 2,
   "metadata": {
    "collapsed": true
   },
   "outputs": [],
   "source": [
    "client = pymongo.MongoClient(host='localhost', port=27017)\n",
    "db = client['music']\n",
    "collection = db['menu']\n",
    "# 将数据库数据转为dataFrame\n",
    "data = pd.DataFrame(list(collection.find()))"
   ]
  },
  {
   "cell_type": "code",
   "execution_count": 3,
   "metadata": {},
   "outputs": [
    {
     "name": "stdout",
     "output_type": "stream",
     "text": [
      "(66, 2)\n"
     ]
    }
   ],
   "source": [
    "print(data.shape)"
   ]
  },
  {
   "cell_type": "code",
   "execution_count": 4,
   "metadata": {
    "collapsed": true
   },
   "outputs": [],
   "source": [
    "num=data['playlists']"
   ]
  },
  {
   "cell_type": "code",
   "execution_count": 5,
   "metadata": {},
   "outputs": [
    {
     "name": "stdout",
     "output_type": "stream",
     "text": [
      "[{'name': '你是个成熟的成年人了，你该戒掉情绪了。', 'id': 2468145627, 'trackNumberUpdateTime': 1540176152147, 'status': 0, 'userId': 49341371, 'createTime': 1539449979814, 'updateTime': 1540176152147, 'subscribedCount': 58406, 'trackCount': 43, 'cloudTrackCount': 0, 'coverImgUrl': 'http://p2.music.126.net/qXN1QIV_mGUV1BusdRX1CA==/109951163602371733.jpg', 'coverImgId': 109951163602371730, 'description': '-\\n\\n你要做一个不动声色的大人了。不准情绪化，不准偷偷想念，不准回头看。去过自己另外的生活。\\n\\n以前的你，哭着哭着就笑了。\\n\\n现在的你，笑着笑着就哭了。\\n\\n到了一定的年纪，眼泪越来越少，因为身边再也没有一个能帮你擦眼泪的人。\\n\\n在成年人的世界里，最让人想哭的三个字是：不要哭。\\n\\n-\\n\\n人生还有眼泪也冲刷不干净的巨大悲伤，还有难忘的痛苦让你们即使想哭也不能流泪。\\n\\n怀揣着痛苦和悲伤，即使如此也要带上它们笑着前行。\\n\\n-\\n\\n如果可以，往后请让笑容比眼泪多。就算要哭，每一滴眼泪的名字也应该是——喜极而泣。\\n\\n-\\n\\n封面:站酷插画师Y_jianjian', 'tags': ['华语', '流行', '治愈'], 'playCount': 4370831, 'trackUpdateTime': 1546744947197, 'specialType': 0, 'totalDuration': 0, 'creator': {'defaultAvatar': False, 'province': 440000, 'authStatus': 0, 'followed': False, 'avatarUrl': 'http://p1.music.126.net/NbMIANWbmL6PVBmduaDzqA==/109951163776645958.jpg', 'accountStatus': 0, 'gender': 1, 'city': 441500, 'birthday': 845481600000, 'userId': 49341371, 'userType': 200, 'nickname': '一点波澜-', 'signature': '激不起一点波澜。', 'description': '', 'detailDescription': '', 'avatarImgId': 109951163776645950, 'backgroundImgId': 109951163373553600, 'backgroundUrl': 'http://p1.music.126.net/O3aDHMNl_VW7GgK2VnGz9Q==/109951163373553592.jpg', 'authority': 0, 'mutual': False, 'expertTags': ['华语', '流行', '欧美'], 'experts': None, 'djStatus': 10, 'vipType': 11, 'remarkName': None, 'avatarImgIdStr': '109951163776645958', 'backgroundImgIdStr': '109951163373553592', 'avatarImgId_str': '109951163776645958'}, 'tracks': None, 'subscribers': [{'defaultAvatar': False, 'province': 440000, 'authStatus': 0, 'followed': False, 'avatarUrl': 'http://p1.music.126.net/_XE9wV7-4JlWUPf51pnM_w==/109951163772509594.jpg', 'accountStatus': 0, 'gender': 2, 'city': 440700, 'birthday': -2209017600000, 'userId': 515582083, 'userType': 0, 'nickname': '小心我锤爆你', 'signature': '', 'description': '', 'detailDescription': '', 'avatarImgId': 109951163772509600, 'backgroundImgId': 109951163772503820, 'backgroundUrl': 'http://p1.music.126.net/DQiWNBKXye4i_pbaSzUi9A==/109951163772503826.jpg', 'authority': 0, 'mutual': False, 'expertTags': None, 'experts': None, 'djStatus': 0, 'vipType': 0, 'remarkName': None, 'avatarImgIdStr': '109951163772509594', 'backgroundImgIdStr': '109951163772503826', 'avatarImgId_str': '109951163772509594'}], 'subscribed': None, 'commentThreadId': 'A_PL_0_2468145627', 'newImported': False, 'adType': 0, 'highQuality': False, 'privacy': 0, 'ordered': True, 'anonimous': False, 'shareCount': 520, 'coverImgId_str': '109951163602371733', 'commentCount': 403, 'alg': 'alg_sq_topn_lr'}, {'name': '乾坤未定 你我皆是黑马', 'id': 2533457359, 'trackNumberUpdateTime': 1544088498706, 'status': 0, 'userId': 59291942, 'createTime': 1543407158841, 'updateTime': 1544088498706, 'subscribedCount': 36805, 'trackCount': 35, 'cloudTrackCount': 0, 'coverImgUrl': 'http://p2.music.126.net/tghyV9sVSKsqZdtQJk0qSg==/109951163693901056.jpg', 'coverImgId': 109951163693901060, 'description': '路漫漫其修远兮 吾将上下而求索\\n\\n（封面 标题来自网络 介绍来自屈原）', 'tags': ['华语', '学习'], 'playCount': 2384519, 'trackUpdateTime': 1546225852784, 'specialType': 0, 'totalDuration': 0, 'creator': {'defaultAvatar': False, 'province': 370000, 'authStatus': 0, 'followed': False, 'avatarUrl': 'http://p1.music.126.net/8pkU2ZeVFZjkF8dkAhZNRw==/109951163677766080.jpg', 'accountStatus': 0, 'gender': 2, 'city': 370200, 'birthday': -2209017600000, 'userId': 59291942, 'userType': 200, 'nickname': '猪吃了吗', 'signature': '不懂怎么表现温柔的我们', 'description': '', 'detailDescription': '', 'avatarImgId': 109951163677766080, 'backgroundImgId': 109951163445516800, 'backgroundUrl': 'http://p1.music.126.net/DqUaVtB3AKhWCLzSvpEv0w==/109951163445516793.jpg', 'authority': 0, 'mutual': False, 'expertTags': ['华语', '流行'], 'experts': None, 'djStatus': 0, 'vipType': 0, 'remarkName': None, 'avatarImgIdStr': '109951163677766080', 'backgroundImgIdStr': '109951163445516793', 'avatarImgId_str': '109951163677766080'}, 'tracks': None, 'subscribers': [{'defaultAvatar': True, 'province': 430000, 'authStatus': 0, 'followed': False, 'avatarUrl': 'http://p1.music.126.net/ma8NC_MpYqC-dK_L81FWXQ==/109951163250233892.jpg', 'accountStatus': 0, 'gender': 0, 'city': 430100, 'birthday': -2209017600000, 'userId': 1730259627, 'userType': 0, 'nickname': '安不若Geeky', 'signature': '', 'description': '', 'detailDescription': '', 'avatarImgId': 109951163250233890, 'backgroundImgId': 109951162868126480, 'backgroundUrl': 'http://p1.music.126.net/_f8R60U9mZ42sSNvdPn2sQ==/109951162868126486.jpg', 'authority': 0, 'mutual': False, 'expertTags': None, 'experts': None, 'djStatus': 0, 'vipType': 0, 'remarkName': None, 'avatarImgIdStr': '109951163250233892', 'backgroundImgIdStr': '109951162868126486', 'avatarImgId_str': '109951163250233892'}], 'subscribed': None, 'commentThreadId': 'A_PL_0_2533457359', 'newImported': False, 'adType': 0, 'highQuality': False, 'privacy': 0, 'ordered': True, 'anonimous': False, 'shareCount': 679, 'coverImgId_str': '109951163693901056', 'commentCount': 2731, 'alg': 'alg_sq_topn_lr'}, {'name': '\"我要这圣诞的暖灯荼锦，全都为你闪烁\"', 'id': 2565796547, 'trackNumberUpdateTime': 1545492865610, 'status': 0, 'userId': 2936282, 'createTime': 1545320668530, 'updateTime': 1545492865610, 'subscribedCount': 15139, 'trackCount': 33, 'cloudTrackCount': 0, 'coverImgUrl': 'http://p2.music.126.net/yEGaigNGo2Ui6qjfu2nloQ==/109951163738098455.jpg', 'coverImgId': 109951163738098450, 'description': '★★★★★★★★★★★★★★★★★★★★★★★★★\\n\\n我想要过这样一个温暖的冬天\\n有一场踩起来嘎吱嘎吱的雪\\n有路灯下昏黄模糊的暖光\\n有趴在桌下酣睡的猫\\n有热烘烘的烤地瓜\\n有一壶暖胃的酒\\n有本想看的书\\n有窗上的雾\\n有大毛毯\\n毛毯边\\n还有\\n你\\n\\n我\\n陪你\\n欢度这\\n星火点缀\\n到处充满着\\n圣诞气息的夜\\n想教你凌驾冰雪\\n骑驭骐骥俯视世间\\n看人间烟火星芒布辰\\n拂你眉额间的几缕秀丝\\n心里装载一江秋水一江月\\n我要这般毚躖而匪意的腊月\\n攚全与卿同过圣诞的含春暗喜\\n\\n★★★★★★★★★★★★★★★★★★★★★★★★★\\n甜暖圣诞，如约而至\\n祝大家圣诞节快乐啊\\n★★★★★★★★★★★★★★★★★★★★★★★★★\\n\\n封面插画: 杰克 & 艾莎（来自电影:《冰雪奇缘》《守护者联盟》）', 'tags': ['欧美', '清新', '快乐'], 'playCount': 971114, 'trackUpdateTime': 1545970849436, 'specialType': 0, 'totalDuration': 0, 'creator': {'defaultAvatar': False, 'province': 1000000, 'authStatus': 0, 'followed': False, 'avatarUrl': 'http://p1.music.126.net/fUR0_fyNAjx3AX6M3bJN4g==/109951163681729552.jpg', 'accountStatus': 0, 'gender': 1, 'city': 1001300, 'birthday': 974995200000, 'userId': 2936282, 'userType': 200, 'nickname': 'X丶Greyen', 'signature': '◇ 南 有 乔 木，不 可 休 思。🍓', 'description': '', 'detailDescription': '', 'avatarImgId': 109951163681729550, 'backgroundImgId': 109951163742646600, 'backgroundUrl': 'http://p1.music.126.net/MF9yKcPEPqb8Xfq4vMm2QA==/109951163742646588.jpg', 'authority': 0, 'mutual': False, 'expertTags': ['欧美'], 'experts': None, 'djStatus': 10, 'vipType': 0, 'remarkName': None, 'avatarImgIdStr': '109951163681729552', 'backgroundImgIdStr': '109951163742646588', 'avatarImgId_str': '109951163681729552'}, 'tracks': None, 'subscribers': [{'defaultAvatar': False, 'province': 370000, 'authStatus': 0, 'followed': False, 'avatarUrl': 'http://p1.music.126.net/yRkoDlKiEMqIb3DocK063g==/19160089626180462.jpg', 'accountStatus': 0, 'gender': 1, 'city': 370800, 'birthday': -2209017600000, 'userId': 328887028, 'userType': 0, 'nickname': '稻香村ke', 'signature': '', 'description': '', 'detailDescription': '', 'avatarImgId': 19160089626180464, 'backgroundImgId': 2002210674180199, 'backgroundUrl': 'http://p1.music.126.net/VTW4vsN08vwL3uSQqPyHqg==/2002210674180199.jpg', 'authority': 0, 'mutual': False, 'expertTags': None, 'experts': None, 'djStatus': 0, 'vipType': 11, 'remarkName': None, 'avatarImgIdStr': '19160089626180462', 'backgroundImgIdStr': '2002210674180199', 'avatarImgId_str': '19160089626180462'}], 'subscribed': None, 'commentThreadId': 'A_PL_0_2565796547', 'newImported': False, 'adType': 0, 'highQuality': False, 'privacy': 0, 'ordered': True, 'anonimous': False, 'shareCount': 242, 'coverImgId_str': '109951163738098455', 'commentCount': 433, 'alg': 'alg_sq_topn_lr'}, {'name': '致风：请把这个秘密告诉他吧', 'id': 2522346831, 'trackNumberUpdateTime': 1546601790913, 'status': 0, 'userId': 450639585, 'createTime': 1542709944120, 'updateTime': 1546601790913, 'subscribedCount': 19975, 'trackCount': 46, 'cloudTrackCount': 0, 'coverImgUrl': 'http://p2.music.126.net/zSMFlLUImRuhOjN4dRq7ag==/109951163729813508.jpg', 'coverImgId': 109951163729813500, 'description': '人的一生\\n都有一些说不出的秘密\\n挽不回的遗憾\\n触不到的梦想\\n忘不了的爱\\n\\n把它写在明信片上\\n告诉风\\n这是一个秘密\\n而风吹到了你的耳畔中\\n你喜欢我\\n而我 也刚好喜欢你\\n\\n只要我喜欢你 就算藏在天涯海角\\n那万物自然就会告诉你啊\\n\\n♥”\\n\\n封面：章若楠', 'tags': ['华语', '流行', '思念'], 'playCount': 1817386, 'trackUpdateTime': 1546601815081, 'specialType': 0, 'totalDuration': 0, 'creator': {'defaultAvatar': False, 'province': 1000000, 'authStatus': 0, 'followed': False, 'avatarUrl': 'http://p1.music.126.net/xdeJm_BJsVcqdhYIGjdtgA==/109951163755481507.jpg', 'accountStatus': 0, 'gender': 1, 'city': 1000500, 'birthday': -2209017600000, 'userId': 450639585, 'userType': 200, 'nickname': '四季里的懒睡猫', 'signature': '', 'description': '', 'detailDescription': '', 'avatarImgId': 109951163755481500, 'backgroundImgId': 109951163239245580, 'backgroundUrl': 'http://p1.music.126.net/M-252MItdV73xOWxTzAZtQ==/109951163239245589.jpg', 'authority': 0, 'mutual': False, 'expertTags': ['流行', '欧美'], 'experts': None, 'djStatus': 0, 'vipType': 11, 'remarkName': None, 'avatarImgIdStr': '109951163755481507', 'backgroundImgIdStr': '109951163239245589', 'avatarImgId_str': '109951163755481507'}, 'tracks': None, 'subscribers': [{'defaultAvatar': False, 'province': 130000, 'authStatus': 0, 'followed': False, 'avatarUrl': 'http://p1.music.126.net/yfJVRM_RlfY4CcjNNmZg1w==/109951163778813665.jpg', 'accountStatus': 0, 'gender': 2, 'city': 130200, 'birthday': -2209017600000, 'userId': 509618095, 'userType': 0, 'nickname': '欢天喜地小豆子', 'signature': '', 'description': '', 'detailDescription': '', 'avatarImgId': 109951163778813660, 'backgroundImgId': 109951162868128400, 'backgroundUrl': 'http://p1.music.126.net/2zSNIqTcpHL2jIvU6hG0EA==/109951162868128395.jpg', 'authority': 0, 'mutual': False, 'expertTags': None, 'experts': None, 'djStatus': 0, 'vipType': 11, 'remarkName': None, 'avatarImgIdStr': '109951163778813665', 'backgroundImgIdStr': '109951162868128395', 'avatarImgId_str': '109951163778813665'}], 'subscribed': None, 'commentThreadId': 'A_PL_0_2522346831', 'newImported': False, 'adType': 0, 'highQuality': False, 'privacy': 0, 'ordered': True, 'anonimous': False, 'shareCount': 119, 'coverImgId_str': '109951163729813508', 'commentCount': 129, 'alg': 'alg_sq_topn_lr'}, {'name': '伤感华语|浮沉在钢琴声的浪潮之间', 'id': 2577912468, 'trackNumberUpdateTime': 1546516223813, 'status': 0, 'userId': 1552777579, 'createTime': 1546072772740, 'updateTime': 1546765540213, 'subscribedCount': 24276, 'trackCount': 40, 'cloudTrackCount': 0, 'coverImgUrl': 'http://p2.music.126.net/jY-VN8Lmsh4L0N7aE-iIXg==/109951163777259296.jpg', 'coverImgId': 109951163777259300, 'description': '毕生浮沉在相遇与离别的浪潮之间。\\n但美中不足的，往往是该爱的时候太吝啬，该恨的时候又太留情。不管怎样，还望你和我都能爱恨分明，别隐藏爱意，也别留下遗憾。\\n封面：花样年华', 'tags': ['华语', '流行', '伤感'], 'playCount': 2355264, 'trackUpdateTime': 1547005423602, 'specialType': 0, 'totalDuration': 0, 'creator': {'defaultAvatar': False, 'province': 1000000, 'authStatus': 0, 'followed': False, 'avatarUrl': 'http://p1.music.126.net/apdWmXSpt2uTQMh0H8apmA==/109951163781982241.jpg', 'accountStatus': 0, 'gender': 1, 'city': 1010000, 'birthday': 892137600000, 'userId': 1552777579, 'userType': 200, 'nickname': 'JZhustleEvyday', 'signature': '', 'description': '', 'detailDescription': '', 'avatarImgId': 109951163781982240, 'backgroundImgId': 109951163781982640, 'backgroundUrl': 'http://p1.music.126.net/5Wz2ROyzXSQSj9he1c-9Mw==/109951163781982647.jpg', 'authority': 0, 'mutual': False, 'expertTags': ['华语'], 'experts': None, 'djStatus': 0, 'vipType': 10, 'remarkName': None, 'avatarImgIdStr': '109951163781982241', 'backgroundImgIdStr': '109951163781982647', 'avatarImgId_str': '109951163781982241'}, 'tracks': None, 'subscribers': [{'defaultAvatar': False, 'province': 220000, 'authStatus': 0, 'followed': False, 'avatarUrl': 'http://p1.music.126.net/nPZNUdbCbA8FHY1mtZLHzg==/19146895486272499.jpg', 'accountStatus': 0, 'gender': 2, 'city': 220600, 'birthday': -2209017600000, 'userId': 402561068, 'userType': 0, 'nickname': '佳大宋慧乔', 'signature': '', 'description': '', 'detailDescription': '', 'avatarImgId': 19146895486272500, 'backgroundImgId': 19161189137433010, 'backgroundUrl': 'http://p1.music.126.net/t6LAl5WNcx-UwPDde-eHAg==/19161189137433010.jpg', 'authority': 0, 'mutual': False, 'expertTags': None, 'experts': None, 'djStatus': 0, 'vipType': 0, 'remarkName': None, 'avatarImgIdStr': '19146895486272499', 'backgroundImgIdStr': '19161189137433010', 'avatarImgId_str': '19146895486272499'}], 'subscribed': None, 'commentThreadId': 'A_PL_0_2577912468', 'newImported': False, 'adType': 0, 'highQuality': False, 'privacy': 0, 'ordered': True, 'anonimous': False, 'shareCount': 187, 'coverImgId_str': '109951163777259296', 'commentCount': 54, 'alg': 'alg_sq_topn_lr'}, {'name': '最好的友情，是各自忙碌却又互相牵挂', 'id': 2608428625, 'trackNumberUpdateTime': 1547110595196, 'status': 0, 'userId': 1418275670, 'createTime': 1546683691194, 'updateTime': 1547110607167, 'subscribedCount': 18565, 'trackCount': 60, 'cloudTrackCount': 0, 'coverImgUrl': 'http://p2.music.126.net/E08zwBKSx2Yf7Yh8RHpslQ==/109951163774361448.jpg', 'coverImgId': 109951163774361440, 'description': '有一种特别舒服的关系，并不是总你一言我一句的秒回，有时候愿意把我现在看到的所有东西一股脑儿的发给你，不用组织好精简的语言，啰里啰唆也不怕哪句话说错，发完也不会等着回复。因为我知道你总会看见，是信任，是任何时候都不会被丢下的安定感，是友情。\\n\\n友情就是这样，永远不会想起，永远也不会忘记。\\n\\n真正的友情从不祈求什么，也不依靠什么，它总是那么的纯净而又脆弱。友情的纽带，或会因情绪激动而绷紧，但绝不会折断。\\n\\n亲情，如温暖的阳光，你不用去索取，他也会无私的把你照耀；\\n爱情，如一个美好的梦，你喜欢的人很可能不喜欢你；\\n而友情呢？好的朋友如同一本好书，又如同一杯好茶，只有细细品味，才能领会其中的滋味。\\n\\n人生聚散无常，在生活不经意的点滴里，常会忆起曾经拥有的甜美友情，友情，是我心中点点动人的星光。不论你是春风得意之时，还是风雨交加之际，友情永远是个避风的港湾。珍惜朋友真诚的友情吧，就像珍爱自己的生命一样。\\n\\n我和你，不是影子一样的朋友，只在光明的日子里相随。\\n\\n很荣幸在最好的年纪遇到你，以后的路，也一直走下去吧！\\n\\n风格相关：\\n1~40：华语\\n41~60：欧美、日语', 'tags': ['华语', '欧美', '感动'], 'playCount': 1760915, 'trackUpdateTime': 1547136216446, 'specialType': 0, 'totalDuration': 0, 'creator': {'defaultAvatar': False, 'province': 1000000, 'authStatus': 0, 'followed': False, 'avatarUrl': 'http://p1.music.126.net/3OjLt5O_iKVDRzJ43yD6VQ==/109951163772308323.jpg', 'accountStatus': 0, 'gender': 0, 'city': 1010000, 'birthday': 865180800000, 'userId': 1418275670, 'userType': 0, 'nickname': '凄竹', 'signature': '', 'description': '', 'detailDescription': '', 'avatarImgId': 109951163772308320, 'backgroundImgId': 109951163767057700, 'backgroundUrl': 'http://p1.music.126.net/s1RfpIrEDCET2d9OWVl98Q==/109951163767057698.jpg', 'authority': 0, 'mutual': False, 'expertTags': None, 'experts': None, 'djStatus': 0, 'vipType': 11, 'remarkName': None, 'avatarImgIdStr': '109951163772308323', 'backgroundImgIdStr': '109951163767057698', 'avatarImgId_str': '109951163772308323'}, 'tracks': None, 'subscribers': [{'defaultAvatar': False, 'province': 360000, 'authStatus': 0, 'followed': False, 'avatarUrl': 'http://p1.music.126.net/vqb8jRBE88ReDbXGpyKS3Q==/109951163662942419.jpg', 'accountStatus': 0, 'gender': 1, 'city': 360400, 'birthday': -2209017600000, 'userId': 1552992893, 'userType': 0, 'nickname': '看见中义', 'signature': '', 'description': '', 'detailDescription': '', 'avatarImgId': 109951163662942420, 'backgroundImgId': 109951162868128400, 'backgroundUrl': 'http://p1.music.126.net/2zSNIqTcpHL2jIvU6hG0EA==/109951162868128395.jpg', 'authority': 0, 'mutual': False, 'expertTags': None, 'experts': None, 'djStatus': 0, 'vipType': 0, 'remarkName': None, 'avatarImgIdStr': '109951163662942419', 'backgroundImgIdStr': '109951162868128395', 'avatarImgId_str': '109951163662942419'}], 'subscribed': None, 'commentThreadId': 'A_PL_0_2608428625', 'newImported': False, 'adType': 0, 'highQuality': False, 'privacy': 0, 'ordered': True, 'anonimous': False, 'shareCount': 319, 'coverImgId_str': '109951163774361448', 'commentCount': 210, 'alg': 'alg_sq_topn_lr'}, {'name': '『民谣/独立』自由│理想│岁月│孤独', 'id': 2578913204, 'trackNumberUpdateTime': 1547102671532, 'status': 0, 'userId': 317658815, 'createTime': 1546128280087, 'updateTime': 1547102671532, 'subscribedCount': 32132, 'trackCount': 100, 'cloudTrackCount': 0, 'coverImgUrl': 'http://p2.music.126.net/YLHRTk_OtFd-13reH9psbw==/109951163756958998.jpg', 'coverImgId': 109951163756958990, 'description': '类别：华语│民谣&独立\\n封面图源：微博overwater\\n\\n│你听了那么多爱情，也许有些倦了吧│\\n│民谣不只有爱情，也不应该只有爱情│\\n\\n『不妨听一些关于理想、关于岁月、关于孤独、关于真实生活的模样的歌，也许会有不一样的共鸣』\\n\\n『主题』：包涵但不限于标题的自由、理想、岁月、孤独。会有一些歌提及爱情，但是皆为附笔。总的来说，便是爱情之外的生活主题。\\n\\n『关于民谣与独立』：民谣歌手最初大都是独立音乐人（故而把民谣和独立放在一起），大抵因为真正好的的民谣需要的是自由的灵魂吧，没有了条条框框的限制，才能更好地表达观点和情绪。\\n但是自由的灵魂需要长久的孤独与观照，方能在世事与独处中写出能共鸣人心的东西。民谣需要纯粹，纯粹嬉笑，纯粹怒骂，纯粹抒情，纯粹抨击……太过纯粹也许非理性，不过足够释怀心绪。\\n\\n关于标题的四个主题作者最想推荐的四位民谣歌手：陈鸿宇，冯佳界，程璧，许佩佩。\\n\\n*建议随机播放*\\n\\n『自由』『理想』『岁月』『孤独』『人间』', 'tags': ['民谣', '另类/独立', '华语'], 'playCount': 1320559, 'trackUpdateTime': 1547102687632, 'specialType': 0, 'totalDuration': 0, 'creator': {'defaultAvatar': False, 'province': 340000, 'authStatus': 0, 'followed': False, 'avatarUrl': 'http://p1.music.126.net/5H85il0GKB-uZPtIKViUdA==/109951163686243135.jpg', 'accountStatus': 0, 'gender': 1, 'city': 340100, 'birthday': 962543145605, 'userId': 317658815, 'userType': 200, 'nickname': '林沐夜', 'signature': '我是一个让人无话可说的人。', 'description': '', 'detailDescription': '', 'avatarImgId': 109951163686243140, 'backgroundImgId': 109951163575029570, 'backgroundUrl': 'http://p1.music.126.net/pmqD2CZnoPHcow1rlXkQig==/109951163575029564.jpg', 'authority': 0, 'mutual': False, 'expertTags': ['欧美'], 'experts': None, 'djStatus': 0, 'vipType': 0, 'remarkName': None, 'avatarImgIdStr': '109951163686243135', 'backgroundImgIdStr': '109951163575029564', 'avatarImgId_str': '109951163686243135'}, 'tracks': None, 'subscribers': [], 'subscribed': None, 'commentThreadId': 'A_PL_0_2578913204', 'newImported': False, 'adType': 0, 'highQuality': False, 'privacy': 0, 'ordered': True, 'anonimous': False, 'shareCount': 174, 'coverImgId_str': '109951163756958998', 'commentCount': 94, 'alg': 'alg_sq_topn_lr'}, {'name': '年轻之歌\\xa0有关爱与挑衅', 'id': 2572036338, 'trackNumberUpdateTime': 1546570093408, 'status': 0, 'userId': 201586, 'createTime': 1545705403331, 'updateTime': 1546570093408, 'subscribedCount': 36764, 'trackCount': 42, 'cloudTrackCount': 0, 'coverImgUrl': 'http://p2.music.126.net/wv2NdfZrUnLDSwk_kQoSZg==/109951163751040922.jpg', 'coverImgId': 109951163751040930, 'description': '荷尔蒙旺盛的年轻人，我们所有的故事都围绕着对他人的爱与挑衅。', 'tags': ['华语', '说唱', '兴奋'], 'playCount': 2738962, 'trackUpdateTime': 1546835354921, 'specialType': 0, 'totalDuration': 0, 'creator': {'defaultAvatar': False, 'province': 440000, 'authStatus': 1, 'followed': False, 'avatarUrl': 'http://p1.music.126.net/ps6WTvt1FnbOoYvUPDdzOA==/3394192433248383.jpg', 'accountStatus': 0, 'gender': 2, 'city': 440100, 'birthday': 1347033600000, 'userId': 201586, 'userType': 4, 'nickname': '原创君', 'signature': '网易云音乐是6亿人都在使用的音乐平台，致力于帮助音乐爱好者发现音乐惊喜，帮助音乐人实现梦想。\\n客服在线时间：9:00 - 22:00，如您在使用过程中遇到任何问题，欢迎私信咨询，我们会尽快回复。\\n如果仍然不能解决您的问题，请邮件我们：\\n用户：ncm5990@163.com\\n音乐人：yyr599@163.com', 'description': '', 'detailDescription': '', 'avatarImgId': 3394192433248383, 'backgroundImgId': 109951163521987360, 'backgroundUrl': 'http://p1.music.126.net/6WOd8M2uPlfuu9TCiBCSMw==/109951163521987363.jpg', 'authority': 0, 'mutual': False, 'expertTags': None, 'experts': None, 'djStatus': 0, 'vipType': 11, 'remarkName': None, 'avatarImgIdStr': '3394192433248383', 'backgroundImgIdStr': '109951163521987363'}, 'tracks': None, 'subscribers': [{'defaultAvatar': False, 'province': 450000, 'authStatus': 0, 'followed': False, 'avatarUrl': 'http://p1.music.126.net/r08pWoxsIYryVkm-kQHxlg==/109951163780876047.jpg', 'accountStatus': 0, 'gender': 2, 'city': 450100, 'birthday': 1021996800000, 'userId': 573841364, 'userType': 0, 'nickname': '威士忌比', 'signature': '', 'description': '', 'detailDescription': '', 'avatarImgId': 109951163780876050, 'backgroundImgId': 109951163747074270, 'backgroundUrl': 'http://p1.music.126.net/2C7LFDhmFjWdsgcvJ-5AMg==/109951163747074265.jpg', 'authority': 0, 'mutual': False, 'expertTags': None, 'experts': None, 'djStatus': 0, 'vipType': 0, 'remarkName': None, 'avatarImgIdStr': '109951163780876047', 'backgroundImgIdStr': '109951163747074265', 'avatarImgId_str': '109951163780876047'}], 'subscribed': None, 'commentThreadId': 'A_PL_0_2572036338', 'newImported': False, 'adType': 0, 'highQuality': False, 'privacy': 0, 'ordered': True, 'anonimous': False, 'shareCount': 176, 'coverImgId_str': '109951163751040922', 'commentCount': 159, 'alg': 'alg_sq_topn_lr'}, {'name': '隔壁老樊的孤单', 'id': 2476882724, 'trackNumberUpdateTime': 1545494823394, 'status': 0, 'userId': 414221496, 'createTime': 1539957993367, 'updateTime': 1545494823394, 'subscribedCount': 133372, 'trackCount': 22, 'cloudTrackCount': 0, 'coverImgUrl': 'http://p2.music.126.net/urUXkh2vU8mvGHh_31TVkw==/109951163629320801.jpg', 'coverImgId': 109951163629320800, 'description': '孤单老樊 能给弟弟点个关注吗', 'tags': ['华语', '翻唱', '民谣'], 'playCount': 3950889, 'trackUpdateTime': 1546846984963, 'specialType': 0, 'totalDuration': 0, 'creator': {'defaultAvatar': False, 'province': 410000, 'authStatus': 0, 'followed': False, 'avatarUrl': 'http://p1.music.126.net/5sKcrVWao5iR4nMLQsQ4Cw==/109951163724300295.jpg', 'accountStatus': 0, 'gender': 1, 'city': 410100, 'birthday': 869846400000, 'userId': 414221496, 'userType': 0, 'nickname': '网易云音乐的泪', 'signature': '先沉稳', 'description': '', 'detailDescription': '', 'avatarImgId': 109951163724300290, 'backgroundImgId': 109951163715938720, 'backgroundUrl': 'http://p1.music.126.net/-juw3BBicMpsRZF4cpsUtg==/109951163715938722.jpg', 'authority': 0, 'mutual': False, 'expertTags': None, 'experts': None, 'djStatus': 0, 'vipType': 10, 'remarkName': None, 'avatarImgIdStr': '109951163724300295', 'backgroundImgIdStr': '109951163715938722', 'avatarImgId_str': '109951163724300295'}, 'tracks': None, 'subscribers': [{'defaultAvatar': False, 'province': 450000, 'authStatus': 0, 'followed': False, 'avatarUrl': 'http://p1.music.126.net/y4CyPZ6AuyIt4zuBNMCEqg==/109951163244677115.jpg', 'accountStatus': 0, 'gender': 2, 'city': 450900, 'birthday': -2209017600000, 'userId': 1427911348, 'userType': 0, 'nickname': '水凉城', 'signature': '覆水 凉城。', 'description': '', 'detailDescription': '', 'avatarImgId': 109951163244677120, 'backgroundImgId': 109951163787224480, 'backgroundUrl': 'http://p1.music.126.net/jWRFctlKh29n9Bu488HOOA==/109951163787224478.jpg', 'authority': 0, 'mutual': False, 'expertTags': None, 'experts': None, 'djStatus': 0, 'vipType': 0, 'remarkName': None, 'avatarImgIdStr': '109951163244677115', 'backgroundImgIdStr': '109951163787224478', 'avatarImgId_str': '109951163244677115'}], 'subscribed': None, 'commentThreadId': 'A_PL_0_2476882724', 'newImported': False, 'adType': 0, 'highQuality': False, 'privacy': 0, 'ordered': True, 'anonimous': False, 'shareCount': 838, 'coverImgId_str': '109951163629320801', 'commentCount': 383, 'alg': 'alg_sq_topn_lr'}, {'name': '韩语治愈 | IU窝在耳朵里的阳光', 'id': 2429929844, 'trackNumberUpdateTime': 1545459603519, 'status': 0, 'userId': 119754445, 'createTime': 1537540953622, 'updateTime': 1545459603519, 'subscribedCount': 40125, 'trackCount': 26, 'cloudTrackCount': 0, 'coverImgUrl': 'http://p2.music.126.net/3Fn5T_3QW36NqvPrs-9vQQ==/109951163588385115.jpg', 'coverImgId': 109951163588385120, 'description': '这世间纵有千般好，但唯有你最珍贵。', 'tags': ['韩语', '流行', '治愈'], 'playCount': 1542748, 'trackUpdateTime': 1545459615572, 'specialType': 0, 'totalDuration': 0, 'creator': {'defaultAvatar': False, 'province': 340000, 'authStatus': 0, 'followed': False, 'avatarUrl': 'http://p1.music.126.net/WMcktIMzobcZcuEZqvfbow==/109951163589528525.jpg', 'accountStatus': 0, 'gender': 1, 'city': 340400, 'birthday': 865150417173, 'userId': 119754445, 'userType': 0, 'nickname': '-别搅', 'signature': '只问深情，无问西东。', 'description': '', 'detailDescription': '', 'avatarImgId': 109951163589528530, 'backgroundImgId': 109951163616755400, 'backgroundUrl': 'http://p1.music.126.net/RZlL6VlMwtzzK0CWAb9gLA==/109951163616755390.jpg', 'authority': 0, 'mutual': False, 'expertTags': None, 'experts': None, 'djStatus': 0, 'vipType': 10, 'remarkName': None, 'avatarImgIdStr': '109951163589528525', 'backgroundImgIdStr': '109951163616755390', 'avatarImgId_str': '109951163589528525'}, 'tracks': None, 'subscribers': [{'defaultAvatar': False, 'province': 310000, 'authStatus': 0, 'followed': False, 'avatarUrl': 'http://p1.music.126.net/s-vGwXj8AafdeEOdVohPiQ==/109951163541732979.jpg', 'accountStatus': 0, 'gender': 1, 'city': 310113, 'birthday': 1005986225941, 'userId': 316414755, 'userType': 0, 'nickname': '巢人魔都小姐姐', 'signature': '', 'description': '', 'detailDescription': '', 'avatarImgId': 109951163541732980, 'backgroundImgId': 109951163501376940, 'backgroundUrl': 'http://p1.music.126.net/Wa35dyuATO2AvZYgPRLPAg==/109951163501376943.jpg', 'authority': 0, 'mutual': False, 'expertTags': None, 'experts': None, 'djStatus': 0, 'vipType': 0, 'remarkName': None, 'avatarImgIdStr': '109951163541732979', 'backgroundImgIdStr': '109951163501376943', 'avatarImgId_str': '109951163541732979'}], 'subscribed': None, 'commentThreadId': 'A_PL_0_2429929844', 'newImported': False, 'adType': 0, 'highQuality': False, 'privacy': 0, 'ordered': True, 'anonimous': False, 'shareCount': 186, 'coverImgId_str': '109951163588385115', 'commentCount': 194, 'alg': 'alg_sq_topn_lr'}, {'name': '冬至已至｜围炉赏乐，让温暖靠近', 'id': 2564853311, 'trackNumberUpdateTime': 1545388701033, 'status': 0, 'userId': 1489554923, 'createTime': 1545274747177, 'updateTime': 1545388701033, 'subscribedCount': 25080, 'trackCount': 28, 'cloudTrackCount': 0, 'coverImgUrl': 'http://p2.music.126.net/M4kElTz9XLU3gt7fQLDECw==/109951163739272475.jpg', 'coverImgId': 109951163739272480, 'description': '冬至是二十四节气之一，这一天北半球白天最短，夜晚最长。\\n大地的余温已散尽，这是冬天变冷的开始，宜谈天散心、宜拥抱、宜吃火锅。\\n\\n歌单分为雪、流、风、梦、暖五个部分。\\n选曲了一些来自冬天的旋律，声线里晕着水汽，是独属于冬季的味道。\\n值得一提的是暖部分，是一些能让你舞动起来的旋律，只有动起来才能取暖呀，祝你跳舞愉快。\\n\\n以及最后一首私心加入的，是我认为最适合冬至的歌，我把它藏起来了。\\n最后，祝你冬至愉快。', 'tags': ['华语', '流行', '安静'], 'playCount': 2051712, 'trackUpdateTime': 1545956549733, 'specialType': 0, 'totalDuration': 0, 'creator': {'defaultAvatar': False, 'province': 110000, 'authStatus': 0, 'followed': False, 'avatarUrl': 'http://p1.music.126.net/XwCNcx3dYRV9AaFvJ_gtcA==/109951163407748353.jpg', 'accountStatus': 0, 'gender': 2, 'city': 110101, 'birthday': 971971200000, 'userId': 1489554923, 'userType': 200, 'nickname': 'Tataaaaaaa_', 'signature': '后现代主义的丧。', 'description': '', 'detailDescription': '', 'avatarImgId': 109951163407748350, 'backgroundImgId': 109951163454950750, 'backgroundUrl': 'http://p1.music.126.net/59yDfNb8mVzWoKGpJXeZjg==/109951163454950746.jpg', 'authority': 0, 'mutual': False, 'expertTags': ['华语'], 'experts': None, 'djStatus': 0, 'vipType': 0, 'remarkName': None, 'avatarImgIdStr': '109951163407748353', 'backgroundImgIdStr': '109951163454950746', 'avatarImgId_str': '109951163407748353'}, 'tracks': None, 'subscribers': [{'defaultAvatar': False, 'province': 110000, 'authStatus': 0, 'followed': False, 'avatarUrl': 'http://p1.music.126.net/WXu2OKs9IuuXOE-jj_DpXw==/3419481173303887.jpg', 'accountStatus': 0, 'gender': 2, 'city': 110108, 'birthday': -2209017600000, 'userId': 316828118, 'userType': 0, 'nickname': '我家三牛', 'signature': '我曾经走过的......', 'description': '', 'detailDescription': '', 'avatarImgId': 3419481173303887, 'backgroundImgId': 2002210674180198, 'backgroundUrl': 'http://p1.music.126.net/i0qi6mibX8gq2SaLF1bYbA==/2002210674180198.jpg', 'authority': 0, 'mutual': False, 'expertTags': None, 'experts': None, 'djStatus': 0, 'vipType': 0, 'remarkName': None, 'avatarImgIdStr': '3419481173303887', 'backgroundImgIdStr': '2002210674180198'}], 'subscribed': None, 'commentThreadId': 'A_PL_0_2564853311', 'newImported': False, 'adType': 0, 'highQuality': False, 'privacy': 0, 'ordered': True, 'anonimous': False, 'shareCount': 299, 'coverImgId_str': '109951163739272475', 'commentCount': 1277, 'alg': 'alg_sq_topn_lr'}, {'name': '时光匆匆，一年不知不觉又要过去了', 'id': 2564915890, 'trackNumberUpdateTime': 1546421094812, 'status': 0, 'userId': 108952364, 'createTime': 1545281821008, 'updateTime': 1546421094812, 'subscribedCount': 28592, 'trackCount': 65, 'cloudTrackCount': 0, 'coverImgUrl': 'http://p2.music.126.net/H9dJuU5ZGiusoQbnSgijrA==/109951163746048762.jpg', 'coverImgId': 109951163746048770, 'description': '时间匆匆，一年不知不觉又要过去了，这一年来，伤心过，开心过，付出过不少心血，最后还是不尽如意过。', 'tags': ['华语', '流行', '民谣'], 'playCount': 3055139, 'trackUpdateTime': 1547017582314, 'specialType': 0, 'totalDuration': 0, 'creator': {'defaultAvatar': False, 'province': 110000, 'authStatus': 0, 'followed': False, 'avatarUrl': 'http://p1.music.126.net/rEP-Iu-trhiailwxppeG2Q==/109951163739382575.jpg', 'accountStatus': 0, 'gender': 2, 'city': 110101, 'birthday': 637836105000, 'userId': 108952364, 'userType': 200, 'nickname': '情思天鹅', 'signature': '看到好玩有趣的第一时间分享给大家，真心希望大家每天都开开心心的（如有侵权请告知）', 'description': '', 'detailDescription': '', 'avatarImgId': 109951163739382580, 'backgroundImgId': 109951163739381630, 'backgroundUrl': 'http://p1.music.126.net/ioP1zEmy9bmqQldL85NF1g==/109951163739381639.jpg', 'authority': 0, 'mutual': False, 'expertTags': ['华语', '流行', '民谣'], 'experts': {'1': '视频(音乐、影视、综艺)', '2': '生活资讯达人'}, 'djStatus': 10, 'vipType': 11, 'remarkName': None, 'avatarImgIdStr': '109951163739382575', 'backgroundImgIdStr': '109951163739381639', 'avatarImgId_str': '109951163739382575'}, 'tracks': None, 'subscribers': [{'defaultAvatar': True, 'province': 370000, 'authStatus': 0, 'followed': False, 'avatarUrl': 'http://p1.music.126.net/ma8NC_MpYqC-dK_L81FWXQ==/109951163250233892.jpg', 'accountStatus': 0, 'gender': 1, 'city': 370100, 'birthday': -2209017600000, 'userId': 1712748879, 'userType': 0, 'nickname': 'Likeyou181223', 'signature': '', 'description': '', 'detailDescription': '', 'avatarImgId': 109951163250233890, 'backgroundImgId': 109951162868126480, 'backgroundUrl': 'http://p1.music.126.net/_f8R60U9mZ42sSNvdPn2sQ==/109951162868126486.jpg', 'authority': 0, 'mutual': False, 'expertTags': None, 'experts': None, 'djStatus': 0, 'vipType': 0, 'remarkName': None, 'avatarImgIdStr': '109951163250233892', 'backgroundImgIdStr': '109951162868126486', 'avatarImgId_str': '109951163250233892'}], 'subscribed': None, 'commentThreadId': 'A_PL_0_2564915890', 'newImported': False, 'adType': 0, 'highQuality': False, 'privacy': 0, 'ordered': True, 'anonimous': False, 'shareCount': 227, 'coverImgId_str': '109951163746048762', 'commentCount': 366, 'alg': 'alg_sq_topn_lr'}, {'name': '物依旧人以非丨雪落何处寄驰念', 'id': 2552469564, 'trackNumberUpdateTime': 1547009798018, 'status': 0, 'userId': 251729736, 'createTime': 1544515251758, 'updateTime': 1547009798018, 'subscribedCount': 828, 'trackCount': 35, 'cloudTrackCount': 0, 'coverImgUrl': 'http://p2.music.126.net/fGsOkpMVdWTmF1nYyw1Opg==/109951163746539255.jpg', 'coverImgId': 109951163746539250, 'description': '歌单挑选旋律伤感的意境纯音乐\\n\\n柔的钢琴诉说着淡淡的忧伤。\\n\\n优雅的弦乐吐露出内心的惆怅。\\n\\n悠悠的笛音绵延回响，萦绕着无限的遐思与牵念。\\n\\n灵动的鼓声敲击着心灵最深处的感动。\\n\\n优美的组合旋律仿佛描绘出一幅绝美画卷。\\n\\n在这个雪天给你一份感动~\\n请欣赏！\\n\\n～～～～～～～～～～～～～～\\n\\n月长空，漫天飞雪飘落而下。\\n\\n晶莹的冰花，在微风中纷扬，滑进眼帘。\\n\\n冷无声，熟悉而又陌生的古道上，\\n\\n积雪如镜，散发微弱银光。\\n\\n孤独的脚印，一步一步走向前方。\\n\\n伸出手掌，抓一片雪花，一场空。\\n\\n曾经的我们何不就像这雪花，经历了很多，最后又回到起点。\\n\\n岁月一场梦。\\n\\n就让这抹不平的回忆，一如既往带着笑容，逃避下去。\\n\\n～～～～～～～～～～～～～～\\n\\n有些东西总是在记忆里缠绕,挥之不去。\\n有些东西需要一个结束，怎样的结束？每个人都不同。\\n\\n封面：illushb2003', 'tags': ['轻音乐', '夜晚', '孤独'], 'playCount': 78689, 'trackUpdateTime': 1547010007677, 'specialType': 0, 'totalDuration': 0, 'creator': {'defaultAvatar': False, 'province': 1000000, 'authStatus': 0, 'followed': False, 'avatarUrl': 'http://p1.music.126.net/e7j4l-4JV559qkGjMsLXXQ==/109951163787361956.jpg', 'accountStatus': 0, 'gender': 1, 'city': 1000500, 'birthday': 1279814400000, 'userId': 251729736, 'userType': 0, 'nickname': '养只喵取名为猫', 'signature': '那一天，有了梦想', 'description': '', 'detailDescription': '', 'avatarImgId': 109951163787361950, 'backgroundImgId': 109951163787377730, 'backgroundUrl': 'http://p1.music.126.net/2yV_JE8P6_WGFnRql_oS6g==/109951163787377727.jpg', 'authority': 0, 'mutual': False, 'expertTags': None, 'experts': None, 'djStatus': 0, 'vipType': 11, 'remarkName': None, 'avatarImgIdStr': '109951163787361956', 'backgroundImgIdStr': '109951163787377727', 'avatarImgId_str': '109951163787361956'}, 'tracks': None, 'subscribers': [{'defaultAvatar': False, 'province': 440000, 'authStatus': 0, 'followed': False, 'avatarUrl': 'http://p1.music.126.net/tuRLiJtUgyg9rA9mqDGuvw==/18930291695752796.jpg', 'accountStatus': 0, 'gender': 1, 'city': 440100, 'birthday': -2209017600000, 'userId': 584919175, 'userType': 0, 'nickname': 'xwx好的', 'signature': '', 'description': '', 'detailDescription': '', 'avatarImgId': 18930291695752796, 'backgroundImgId': 109951162868128400, 'backgroundUrl': 'http://p1.music.126.net/2zSNIqTcpHL2jIvU6hG0EA==/109951162868128395.jpg', 'authority': 0, 'mutual': False, 'expertTags': None, 'experts': None, 'djStatus': 0, 'vipType': 0, 'remarkName': None, 'avatarImgIdStr': '18930291695752796', 'backgroundImgIdStr': '109951162868128395', 'avatarImgId_str': '18930291695752796'}], 'subscribed': None, 'commentThreadId': 'A_PL_0_2552469564', 'newImported': False, 'adType': 0, 'highQuality': False, 'privacy': 0, 'ordered': True, 'anonimous': False, 'shareCount': 15, 'coverImgId_str': '109951163746539255', 'commentCount': 8, 'alg': 'alg_sq_topn_lr'}, {'name': '[精选纯音]舒缓的轻音乐适合一个人听', 'id': 2490752261, 'trackNumberUpdateTime': 1544437802385, 'status': 0, 'userId': 1402660848, 'createTime': 1540780701459, 'updateTime': 1544437802385, 'subscribedCount': 1109, 'trackCount': 66, 'cloudTrackCount': 0, 'coverImgUrl': 'http://p2.music.126.net/a32GAxIBkcg6Q4DNLYmLXw==/109951163711764277.jpg', 'coverImgId': 109951163711764270, 'description': '如果覺得歌單還不錯的話…\\n求各位大佬點下收藏吧！\\n—-(╹◡╹人)谢谢你', 'tags': ['轻音乐', '放松'], 'playCount': 67181, 'trackUpdateTime': 1547178209217, 'specialType': 0, 'totalDuration': 0, 'creator': {'defaultAvatar': False, 'province': 1000000, 'authStatus': 0, 'followed': False, 'avatarUrl': 'http://p1.music.126.net/rk9Z6JYzLwZT-utYzvXGLQ==/109951163774634315.jpg', 'accountStatus': 0, 'gender': 1, 'city': 1005800, 'birthday': 2548231361469, 'userId': 1402660848, 'userType': 0, 'nickname': 'AIleob', 'signature': '爱音乐♡', 'description': '', 'detailDescription': '', 'avatarImgId': 109951163774634320, 'backgroundImgId': 109951163774635420, 'backgroundUrl': 'http://p1.music.126.net/SyjgppGIFbe0KO3Z_g9TlQ==/109951163774635428.jpg', 'authority': 0, 'mutual': False, 'expertTags': None, 'experts': None, 'djStatus': 0, 'vipType': 0, 'remarkName': None, 'avatarImgIdStr': '109951163774634315', 'backgroundImgIdStr': '109951163774635428', 'avatarImgId_str': '109951163774634315'}, 'tracks': None, 'subscribers': [{'defaultAvatar': False, 'province': 320000, 'authStatus': 0, 'followed': False, 'avatarUrl': 'http://p1.music.126.net/OJ05eCtD7gealzSyRYZ09g==/18677404023677952.jpg', 'accountStatus': 0, 'gender': 1, 'city': 320100, 'birthday': -2209017600000, 'userId': 620128369, 'userType': 0, 'nickname': 'Joe435611960', 'signature': '', 'description': '', 'detailDescription': '', 'avatarImgId': 18677404023677950, 'backgroundImgId': 109951162868126480, 'backgroundUrl': 'http://p1.music.126.net/_f8R60U9mZ42sSNvdPn2sQ==/109951162868126486.jpg', 'authority': 0, 'mutual': False, 'expertTags': None, 'experts': None, 'djStatus': 0, 'vipType': 0, 'remarkName': None, 'avatarImgIdStr': '18677404023677952', 'backgroundImgIdStr': '109951162868126486', 'avatarImgId_str': '18677404023677952'}], 'subscribed': None, 'commentThreadId': 'A_PL_0_2490752261', 'newImported': False, 'adType': 0, 'highQuality': False, 'privacy': 0, 'ordered': True, 'anonimous': False, 'shareCount': 8, 'coverImgId_str': '109951163711764277', 'commentCount': 5, 'alg': 'alg_sq_topn_lr'}, {'name': '人生不会重启，但未来总是可期', 'id': 2521311243, 'trackNumberUpdateTime': 1542973084038, 'status': 0, 'userId': 95142402, 'createTime': 1542630098227, 'updateTime': 1542973084038, 'subscribedCount': 14728, 'trackCount': 21, 'cloudTrackCount': 0, 'coverImgUrl': 'http://p2.music.126.net/s-Y3bilU_YOpWUd4UgvnfQ==/109951163677120503.jpg', 'coverImgId': 109951163677120500, 'description': '有些人\\n光活着就已经耗尽了一生的力气\\n然而不管生活有多艰苦\\n我都希望你能每天开心一点', 'tags': ['治愈', '放松', '欧美'], 'playCount': 754247, 'trackUpdateTime': 1545206249153, 'specialType': 0, 'totalDuration': 0, 'creator': {'defaultAvatar': False, 'province': 500000, 'authStatus': 0, 'followed': False, 'avatarUrl': 'http://p1.music.126.net/Sy7C1iCtPxtWXI4Tobl-mg==/109951163461252407.jpg', 'accountStatus': 0, 'gender': 2, 'city': 500101, 'birthday': 1622812708685, 'userId': 95142402, 'userType': 200, 'nickname': '扥你', 'signature': '', 'description': '', 'detailDescription': '', 'avatarImgId': 109951163461252400, 'backgroundImgId': 18953381439779830, 'backgroundUrl': 'http://p1.music.126.net/OuRc1pNSSYF0DjNH2Pxf5w==/18953381439779831.jpg', 'authority': 0, 'mutual': False, 'expertTags': ['华语', '流行', '欧美'], 'experts': {'1': '视频达人', '2': '生活资讯达人'}, 'djStatus': 10, 'vipType': 11, 'remarkName': None, 'avatarImgIdStr': '109951163461252407', 'backgroundImgIdStr': '18953381439779831', 'avatarImgId_str': '109951163461252407'}, 'tracks': None, 'subscribers': [{'defaultAvatar': False, 'province': 320000, 'authStatus': 0, 'followed': False, 'avatarUrl': 'http://p1.music.126.net/k_Au4nj_R-2KioM3DpoXaw==/18876415626203799.jpg', 'accountStatus': 0, 'gender': 2, 'city': 320400, 'birthday': 931598046944, 'userId': 514763268, 'userType': 0, 'nickname': '苦苦苦苦苦甜', 'signature': '一切正在变好', 'description': '', 'detailDescription': '', 'avatarImgId': 18876415626203800, 'backgroundImgId': 19120507207579256, 'backgroundUrl': 'http://p1.music.126.net/yI-QRKnBfajbR4pLNu0YVw==/19120507207579258.jpg', 'authority': 0, 'mutual': False, 'expertTags': None, 'experts': None, 'djStatus': 0, 'vipType': 0, 'remarkName': None, 'avatarImgIdStr': '18876415626203799', 'backgroundImgIdStr': '19120507207579258', 'avatarImgId_str': '18876415626203799'}], 'subscribed': None, 'commentThreadId': 'A_PL_0_2521311243', 'newImported': False, 'adType': 0, 'highQuality': False, 'privacy': 0, 'ordered': True, 'anonimous': False, 'shareCount': 117, 'coverImgId_str': '109951163677120503', 'commentCount': 379, 'alg': 'alg_sq_topn_lr'}, {'name': '等你学会游泳，我们一起坠入爱河', 'id': 2511714039, 'trackNumberUpdateTime': 1547111322781, 'status': 0, 'userId': 326263822, 'createTime': 1542081534014, 'updateTime': 1547111322781, 'subscribedCount': 41291, 'trackCount': 66, 'cloudTrackCount': 0, 'coverImgUrl': 'http://p2.music.126.net/q5pLA8n34iLh_qkw7ZTXTQ==/109951163779501486.jpg', 'coverImgId': 109951163779501490, 'description': '从我遇见你的那一天起，我就在心里恳求你，如果生活是一条单行道，就请你从此走在我的前面，让我时时可以看到你；如果生活是一条双行道，就请你让我牵着你的手，穿行在茫茫人海里，永远不会走丢。——《山楂树之恋》', 'tags': ['华语', '流行', '浪漫'], 'playCount': 2795502, 'trackUpdateTime': 1547133078285, 'specialType': 0, 'totalDuration': 0, 'creator': {'defaultAvatar': False, 'province': 1000000, 'authStatus': 0, 'followed': False, 'avatarUrl': 'http://p1.music.126.net/1RAzW_cK2KP9GHrQe8CV0g==/109951163679689049.jpg', 'accountStatus': 0, 'gender': 1, 'city': 1004400, 'birthday': 902589206627, 'userId': 326263822, 'userType': 200, 'nickname': '狗大叔爱听歌', 'signature': '爱听音乐的狗大叔。', 'description': '', 'detailDescription': '', 'avatarImgId': 109951163679689060, 'backgroundImgId': 109951163679677890, 'backgroundUrl': 'http://p1.music.126.net/CzeV9hhbVLMAcEHvRvzOpg==/109951163679677883.jpg', 'authority': 0, 'mutual': False, 'expertTags': ['华语', '流行'], 'experts': None, 'djStatus': 10, 'vipType': 0, 'remarkName': None, 'avatarImgIdStr': '109951163679689049', 'backgroundImgIdStr': '109951163679677883', 'avatarImgId_str': '109951163679689049'}, 'tracks': None, 'subscribers': [{'defaultAvatar': False, 'province': 520000, 'authStatus': 0, 'followed': False, 'avatarUrl': 'http://p1.music.126.net/VF9KD8TfotBGec-vwcdiBg==/18669707441982132.jpg', 'accountStatus': 0, 'gender': 2, 'city': 520200, 'birthday': -2209017600000, 'userId': 404674419, 'userType': 0, 'nickname': '江小八儿', 'signature': '', 'description': '', 'detailDescription': '', 'avatarImgId': 18669707441982132, 'backgroundImgId': 2002210674180199, 'backgroundUrl': 'http://p1.music.126.net/VTW4vsN08vwL3uSQqPyHqg==/2002210674180199.jpg', 'authority': 0, 'mutual': False, 'expertTags': None, 'experts': None, 'djStatus': 0, 'vipType': 0, 'remarkName': None, 'avatarImgIdStr': '18669707441982132', 'backgroundImgIdStr': '2002210674180199', 'avatarImgId_str': '18669707441982132'}], 'subscribed': None, 'commentThreadId': 'A_PL_0_2511714039', 'newImported': False, 'adType': 0, 'highQuality': False, 'privacy': 0, 'ordered': True, 'anonimous': False, 'shareCount': 372, 'coverImgId_str': '109951163779501486', 'commentCount': 519, 'alg': 'alg_sq_topn_lr'}, {'name': \"It's fine I'm always alone\", 'id': 2352407852, 'trackNumberUpdateTime': 1546671425491, 'status': 0, 'userId': 1496922189, 'createTime': 1533637168604, 'updateTime': 1546671425491, 'subscribedCount': 14917, 'trackCount': 86, 'cloudTrackCount': 0, 'coverImgUrl': 'http://p2.music.126.net/HJX0tWeSQSo8Wz2pnqoOXw==/109951163585033958.jpg', 'coverImgId': 109951163585033950, 'description': '这些歌虽然好听但丧\\n\\n但还是请各位听歌就好，不要丧了\\n\\n不要再因为那个人悲伤\\n\\n也不要觉得自己没有用\\n\\n更不要想死\\n\\n记住，这个世界上总有人在偷偷爱着你♥\\n\\n当你变得足够优秀，一切都会好起来\\n\\n所以好好生活，不要丧了\\n\\n乖', 'tags': ['欧美', '孤独', '夜晚'], 'playCount': 431426, 'trackUpdateTime': 1547174518505, 'specialType': 0, 'totalDuration': 0, 'creator': {'defaultAvatar': False, 'province': 650000, 'authStatus': 0, 'followed': False, 'avatarUrl': 'http://p1.music.126.net/St58CdEbmEMY5nEgy1RvgQ==/109951163700107787.jpg', 'accountStatus': 0, 'gender': 1, 'city': 650100, 'birthday': 515336499696, 'userId': 1496922189, 'userType': 0, 'nickname': '病气十昧', 'signature': '人分两类 迷人乏味', 'description': '', 'detailDescription': '', 'avatarImgId': 109951163700107790, 'backgroundImgId': 109951163700129500, 'backgroundUrl': 'http://p1.music.126.net/C9-YA2SvyojdQmbNicIVXg==/109951163700129504.jpg', 'authority': 0, 'mutual': False, 'expertTags': None, 'experts': None, 'djStatus': 0, 'vipType': 0, 'remarkName': None, 'avatarImgIdStr': '109951163700107787', 'backgroundImgIdStr': '109951163700129504', 'avatarImgId_str': '109951163700107787'}, 'tracks': None, 'subscribers': [{'defaultAvatar': False, 'province': 150000, 'authStatus': 0, 'followed': False, 'avatarUrl': 'http://p1.music.126.net/rY1Atd8VBQ-SLI64hGRO3A==/1393081247892025.jpg', 'accountStatus': 0, 'gender': 1, 'city': 150400, 'birthday': -2209017600000, 'userId': 333397816, 'userType': 0, 'nickname': 'moster_-poison', 'signature': '', 'description': '', 'detailDescription': '', 'avatarImgId': 1393081247892025, 'backgroundImgId': 2002210674180199, 'backgroundUrl': 'http://p1.music.126.net/VTW4vsN08vwL3uSQqPyHqg==/2002210674180199.jpg', 'authority': 0, 'mutual': False, 'expertTags': None, 'experts': None, 'djStatus': 0, 'vipType': 11, 'remarkName': None, 'avatarImgIdStr': '1393081247892025', 'backgroundImgIdStr': '2002210674180199'}], 'subscribed': None, 'commentThreadId': 'A_PL_0_2352407852', 'newImported': False, 'adType': 0, 'highQuality': False, 'privacy': 0, 'ordered': True, 'anonimous': False, 'shareCount': 90, 'coverImgId_str': '109951163585033958', 'commentCount': 107, 'alg': 'alg_sq_offline'}, {'name': '日系民谣 ‖ 那是岁月轻抚过的温柔', 'id': 2530668718, 'trackNumberUpdateTime': 1545989453136, 'status': 0, 'userId': 39714273, 'createTime': 1543223900109, 'updateTime': 1546613488557, 'subscribedCount': 11109, 'trackCount': 82, 'cloudTrackCount': 0, 'coverImgUrl': 'http://p2.music.126.net/poOMUc0sb-p7QTRNqb_dJg==/109951163771774347.jpg', 'coverImgId': 109951163771774350, 'description': '\\n歌单风格：民谣 / 治愈 / 温暖 / 安静 / 温柔 / 触动心灵\\n歌单封面：湯川潮音\\n\\n歌单主要挑选了当代的日语民谣歌手/组合2-3首代表作品。\\n推荐曲目：\\nハンバート ハンバート－－1时间\\n南壽あさ子－－回遊魚の原風景\\n羊毛とおはな－－少年时代\\n羊毛とおはな－－Kindly\\n熊木杏里－－朝日の誓い\\n福原希己江－－青椒肉丝\\nPS:建议随机收听，因为都是心水之选！！\\n\\n伴奏上，大多以简单的吉他和钢琴伴奏为主，配合浅浅吟唱的人声，安静而温柔。\\n\\n制作这张精心挑选的日语民谣歌单的初衷，是不想让可以触动心灵的旋律，就这样被人遗忘。\\n希望可以让更多的人一起分享这些温柔的声音！\\n\\n歌单不定期更新，只有符合这个歌单意境的歌曲才会收录进来，保证歌单质量。\\n', 'tags': ['日语', '民谣', '清新'], 'playCount': 364525, 'trackUpdateTime': 1546954333317, 'specialType': 0, 'totalDuration': 0, 'creator': {'defaultAvatar': False, 'province': 310000, 'authStatus': 0, 'followed': False, 'avatarUrl': 'http://p1.music.126.net/l4iNr3YmpCg-jrj2kvsK-w==/109951163714804514.jpg', 'accountStatus': 0, 'gender': 1, 'city': 310101, 'birthday': 650736000000, 'userId': 39714273, 'userType': 201, 'nickname': 'Kindly丶', 'signature': 'Youth is wasted on the young', 'description': '', 'detailDescription': '', 'avatarImgId': 109951163714804510, 'backgroundImgId': 2002210674180203, 'backgroundUrl': 'http://p1.music.126.net/bmA_ablsXpq3Tk9HlEg9sA==/2002210674180203.jpg', 'authority': 0, 'mutual': False, 'expertTags': None, 'experts': {'1': '音乐视频达人'}, 'djStatus': 0, 'vipType': 11, 'remarkName': None, 'avatarImgIdStr': '109951163714804514', 'backgroundImgIdStr': '2002210674180203', 'avatarImgId_str': '109951163714804514'}, 'tracks': None, 'subscribers': [{'defaultAvatar': False, 'province': 350000, 'authStatus': 0, 'followed': False, 'avatarUrl': 'http://p1.music.126.net/g3OoGhRmsZ5VPKl-48ae7g==/109951163412189188.jpg', 'accountStatus': 0, 'gender': 2, 'city': 350700, 'birthday': -2209017600000, 'userId': 1523634514, 'userType': 0, 'nickname': '木婴木1807', 'signature': '', 'description': '', 'detailDescription': '', 'avatarImgId': 109951163412189180, 'backgroundImgId': 109951163413739250, 'backgroundUrl': 'http://p1.music.126.net/ox4FgDSYanzP9_bbPtCDVw==/109951163413739242.jpg', 'authority': 0, 'mutual': False, 'expertTags': None, 'experts': None, 'djStatus': 0, 'vipType': 0, 'remarkName': None, 'avatarImgIdStr': '109951163412189188', 'backgroundImgIdStr': '109951163413739242', 'avatarImgId_str': '109951163412189188'}], 'subscribed': None, 'commentThreadId': 'A_PL_0_2530668718', 'newImported': False, 'adType': 0, 'highQuality': False, 'privacy': 0, 'ordered': True, 'anonimous': False, 'shareCount': 130, 'coverImgId_str': '109951163771774347', 'commentCount': 44, 'alg': 'alg_sq_offline'}, {'name': 'Tokyo Ghoul™', 'id': 2467999839, 'trackNumberUpdateTime': 1546358867229, 'status': 0, 'userId': 316344609, 'createTime': 1539443633909, 'updateTime': 1546358867229, 'subscribedCount': 16659, 'trackCount': 15, 'cloudTrackCount': 0, 'coverImgUrl': 'http://p2.music.126.net/HXM0JydZ5TyppnWlp5faWA==/109951163602128728.jpg', 'coverImgId': 109951163602128740, 'description': '喰種一到四季OP ED收錄，封禁的歌曲在我的電台中\\n其中三首虽然标题写的是Cover，但是是原唱上传\\n第一季OP&ED：unravel 聖者たち\\n第二季OP&ED：無能 季節は次々死んでいく\\n第三季OP&ED：Asphyxia HALF\\n第四季OP&ED：Katharsis 楽園の君\\n第二季第二集插曲：Glassy Sky\\n第三季第二集插曲：Remembering\\n\\n1.第二季op無能在我的电台(包括glassy sky)\\n2.下载方式:点击电台下载↣下载完毕↣打开文件管理↣找到本地音乐或文件夹中的网易云音乐↣上传网易云音乐云盘\\n3.请勿在评论区出现于歌单无关的闲语或过激言论', 'tags': ['日语', 'ACG', '感动'], 'playCount': 356368, 'trackUpdateTime': 1547033933909, 'specialType': 0, 'totalDuration': 0, 'creator': {'defaultAvatar': False, 'province': 1000000, 'authStatus': 0, 'followed': False, 'avatarUrl': 'http://p1.music.126.net/LjEOqmBCy4MUtFOUUzFpAg==/109951163778291762.jpg', 'accountStatus': 0, 'gender': 1, 'city': 1005300, 'birthday': 961430400000, 'userId': 316344609, 'userType': 0, 'nickname': 'badjungkook', 'signature': 'Please ARMY remember what we say “love myself”, “love yourself.”', 'description': '', 'detailDescription': '', 'avatarImgId': 109951163778291760, 'backgroundImgId': 109951163756183570, 'backgroundUrl': 'http://p1.music.126.net/UhmDaHuT5uVFmvXP7BOFVg==/109951163756183573.jpg', 'authority': 0, 'mutual': False, 'expertTags': None, 'experts': None, 'djStatus': 10, 'vipType': 11, 'remarkName': None, 'avatarImgIdStr': '109951163778291762', 'backgroundImgIdStr': '109951163756183573', 'avatarImgId_str': '109951163778291762'}, 'tracks': None, 'subscribers': [{'defaultAvatar': False, 'province': 340000, 'authStatus': 0, 'followed': False, 'avatarUrl': 'http://p1.music.126.net/p322uy1FWPi1WGZXF9D1yg==/109951163592361526.jpg', 'accountStatus': 0, 'gender': 1, 'city': 341700, 'birthday': -2209017600000, 'userId': 133597456, 'userType': 0, 'nickname': '耶我是苏坡曼a', 'signature': '', 'description': '', 'detailDescription': '', 'avatarImgId': 109951163592361520, 'backgroundImgId': 2002210674180203, 'backgroundUrl': 'http://p1.music.126.net/bmA_ablsXpq3Tk9HlEg9sA==/2002210674180203.jpg', 'authority': 0, 'mutual': False, 'expertTags': None, 'experts': None, 'djStatus': 0, 'vipType': 0, 'remarkName': None, 'avatarImgIdStr': '109951163592361526', 'backgroundImgIdStr': '2002210674180203', 'avatarImgId_str': '109951163592361526'}], 'subscribed': None, 'commentThreadId': 'A_PL_0_2467999839', 'newImported': False, 'adType': 0, 'highQuality': False, 'privacy': 0, 'ordered': True, 'anonimous': False, 'shareCount': 142, 'coverImgId_str': '109951163602128728', 'commentCount': 255, 'alg': 'alg_sq_offline'}, {'name': '霓虹国式清新旋律|天空画游云，暖阳逗清风', 'id': 2468505578, 'trackNumberUpdateTime': 1541819058858, 'status': 0, 'userId': 542248693, 'createTime': 1539486337167, 'updateTime': 1541819058858, 'subscribedCount': 12179, 'trackCount': 37, 'cloudTrackCount': 0, 'coverImgUrl': 'http://p2.music.126.net/D1I2NxSzyrVBO6uDd1NyIA==/109951163606424816.jpg', 'coverImgId': 109951163606424820, 'description': '“想要穿白衬衣，想要变干净，想要让你想到我就联想起盛夏白瓷和碎冰碰壁，想你想我时，嗅到凌晨四点挂着露水的蔷薇花。”', 'tags': ['日语', '清新', '快乐'], 'playCount': 326120, 'trackUpdateTime': 1546956368836, 'specialType': 0, 'totalDuration': 0, 'creator': {'defaultAvatar': False, 'province': 510000, 'authStatus': 0, 'followed': False, 'avatarUrl': 'http://p1.music.126.net/ezghGRHFj42G-ahXj6T5MQ==/109951163667957756.jpg', 'accountStatus': 0, 'gender': 1, 'city': 510100, 'birthday': 934845383358, 'userId': 542248693, 'userType': 200, 'nickname': '鹿北浠', 'signature': 'Mr.Right', 'description': '', 'detailDescription': '', 'avatarImgId': 109951163667957760, 'backgroundImgId': 109951163667909980, 'backgroundUrl': 'http://p1.music.126.net/rTgXJZ6bGAw_iTEYbHu4og==/109951163667909977.jpg', 'authority': 0, 'mutual': False, 'expertTags': ['日语', '欧美'], 'experts': None, 'djStatus': 10, 'vipType': 11, 'remarkName': None, 'avatarImgIdStr': '109951163667957756', 'backgroundImgIdStr': '109951163667909977', 'avatarImgId_str': '109951163667957756'}, 'tracks': None, 'subscribers': [{'defaultAvatar': False, 'province': 330000, 'authStatus': 0, 'followed': False, 'avatarUrl': 'http://p1.music.126.net/M9QEl7zuWEGI8zEU4Z14XQ==/18743374720468330.jpg', 'accountStatus': 0, 'gender': 1, 'city': 330300, 'birthday': -2209017600000, 'userId': 412893265, 'userType': 0, 'nickname': 'Emperor丶响', 'signature': '', 'description': '', 'detailDescription': '', 'avatarImgId': 18743374720468330, 'backgroundImgId': 2002210674180199, 'backgroundUrl': 'http://p1.music.126.net/VTW4vsN08vwL3uSQqPyHqg==/2002210674180199.jpg', 'authority': 0, 'mutual': False, 'expertTags': None, 'experts': None, 'djStatus': 0, 'vipType': 0, 'remarkName': None, 'avatarImgIdStr': '18743374720468330', 'backgroundImgIdStr': '2002210674180199', 'avatarImgId_str': '18743374720468330'}], 'subscribed': None, 'commentThreadId': 'A_PL_0_2468505578', 'newImported': False, 'adType': 0, 'highQuality': False, 'privacy': 0, 'ordered': True, 'anonimous': False, 'shareCount': 118, 'coverImgId_str': '109951163606424816', 'commentCount': 66, 'alg': 'alg_sq_offline'}]\n"
     ]
    }
   ],
   "source": [
    "print(num.iloc[0])"
   ]
  },
  {
   "cell_type": "code",
   "execution_count": 6,
   "metadata": {},
   "outputs": [
    {
     "name": "stdout",
     "output_type": "stream",
     "text": [
      "(20, 33)\n"
     ]
    }
   ],
   "source": [
    "print(pd.DataFrame(num.iloc[0]).shape)"
   ]
  },
  {
   "cell_type": "code",
   "execution_count": 7,
   "metadata": {
    "collapsed": true
   },
   "outputs": [],
   "source": [
    "data1=pd.DataFrame(num.iloc[0])"
   ]
  },
  {
   "cell_type": "code",
   "execution_count": 8,
   "metadata": {},
   "outputs": [
    {
     "name": "stdout",
     "output_type": "stream",
     "text": [
      "<bound method NDFrame.head of     adType             alg  anonimous  cloudTrackCount  commentCount  \\\n",
      "0        0  alg_sq_topn_lr      False                0           403   \n",
      "1        0  alg_sq_topn_lr      False                0          2731   \n",
      "2        0  alg_sq_topn_lr      False                0           433   \n",
      "3        0  alg_sq_topn_lr      False                0           129   \n",
      "4        0  alg_sq_topn_lr      False                0            54   \n",
      "5        0  alg_sq_topn_lr      False                0           210   \n",
      "6        0  alg_sq_topn_lr      False                0            94   \n",
      "7        0  alg_sq_topn_lr      False                0           159   \n",
      "8        0  alg_sq_topn_lr      False                0           383   \n",
      "9        0  alg_sq_topn_lr      False                0           194   \n",
      "10       0  alg_sq_topn_lr      False                0          1277   \n",
      "11       0  alg_sq_topn_lr      False                0           366   \n",
      "12       0  alg_sq_topn_lr      False                0             8   \n",
      "13       0  alg_sq_topn_lr      False                0             5   \n",
      "14       0  alg_sq_topn_lr      False                0           379   \n",
      "15       0  alg_sq_topn_lr      False                0           519   \n",
      "16       0  alg_sq_offline      False                0           107   \n",
      "17       0  alg_sq_offline      False                0            44   \n",
      "18       0  alg_sq_offline      False                0           255   \n",
      "19       0  alg_sq_offline      False                0            66   \n",
      "\n",
      "      commentThreadId          coverImgId      coverImgId_str  \\\n",
      "0   A_PL_0_2468145627  109951163602371730  109951163602371733   \n",
      "1   A_PL_0_2533457359  109951163693901060  109951163693901056   \n",
      "2   A_PL_0_2565796547  109951163738098450  109951163738098455   \n",
      "3   A_PL_0_2522346831  109951163729813500  109951163729813508   \n",
      "4   A_PL_0_2577912468  109951163777259300  109951163777259296   \n",
      "5   A_PL_0_2608428625  109951163774361440  109951163774361448   \n",
      "6   A_PL_0_2578913204  109951163756958990  109951163756958998   \n",
      "7   A_PL_0_2572036338  109951163751040930  109951163751040922   \n",
      "8   A_PL_0_2476882724  109951163629320800  109951163629320801   \n",
      "9   A_PL_0_2429929844  109951163588385120  109951163588385115   \n",
      "10  A_PL_0_2564853311  109951163739272480  109951163739272475   \n",
      "11  A_PL_0_2564915890  109951163746048770  109951163746048762   \n",
      "12  A_PL_0_2552469564  109951163746539250  109951163746539255   \n",
      "13  A_PL_0_2490752261  109951163711764270  109951163711764277   \n",
      "14  A_PL_0_2521311243  109951163677120500  109951163677120503   \n",
      "15  A_PL_0_2511714039  109951163779501490  109951163779501486   \n",
      "16  A_PL_0_2352407852  109951163585033950  109951163585033958   \n",
      "17  A_PL_0_2530668718  109951163771774350  109951163771774347   \n",
      "18  A_PL_0_2467999839  109951163602128740  109951163602128728   \n",
      "19  A_PL_0_2468505578  109951163606424820  109951163606424816   \n",
      "\n",
      "                                          coverImgUrl     createTime  \\\n",
      "0   http://p2.music.126.net/qXN1QIV_mGUV1BusdRX1CA...  1539449979814   \n",
      "1   http://p2.music.126.net/tghyV9sVSKsqZdtQJk0qSg...  1543407158841   \n",
      "2   http://p2.music.126.net/yEGaigNGo2Ui6qjfu2nloQ...  1545320668530   \n",
      "3   http://p2.music.126.net/zSMFlLUImRuhOjN4dRq7ag...  1542709944120   \n",
      "4   http://p2.music.126.net/jY-VN8Lmsh4L0N7aE-iIXg...  1546072772740   \n",
      "5   http://p2.music.126.net/E08zwBKSx2Yf7Yh8RHpslQ...  1546683691194   \n",
      "6   http://p2.music.126.net/YLHRTk_OtFd-13reH9psbw...  1546128280087   \n",
      "7   http://p2.music.126.net/wv2NdfZrUnLDSwk_kQoSZg...  1545705403331   \n",
      "8   http://p2.music.126.net/urUXkh2vU8mvGHh_31TVkw...  1539957993367   \n",
      "9   http://p2.music.126.net/3Fn5T_3QW36NqvPrs-9vQQ...  1537540953622   \n",
      "10  http://p2.music.126.net/M4kElTz9XLU3gt7fQLDECw...  1545274747177   \n",
      "11  http://p2.music.126.net/H9dJuU5ZGiusoQbnSgijrA...  1545281821008   \n",
      "12  http://p2.music.126.net/fGsOkpMVdWTmF1nYyw1Opg...  1544515251758   \n",
      "13  http://p2.music.126.net/a32GAxIBkcg6Q4DNLYmLXw...  1540780701459   \n",
      "14  http://p2.music.126.net/s-Y3bilU_YOpWUd4UgvnfQ...  1542630098227   \n",
      "15  http://p2.music.126.net/q5pLA8n34iLh_qkw7ZTXTQ...  1542081534014   \n",
      "16  http://p2.music.126.net/HJX0tWeSQSo8Wz2pnqoOXw...  1533637168604   \n",
      "17  http://p2.music.126.net/poOMUc0sb-p7QTRNqb_dJg...  1543223900109   \n",
      "18  http://p2.music.126.net/HXM0JydZ5TyppnWlp5faWA...  1539443633909   \n",
      "19  http://p2.music.126.net/D1I2NxSzyrVBO6uDd1NyIA...  1539486337167   \n",
      "\n",
      "       ...     subscribedCount  \\\n",
      "0      ...               58406   \n",
      "1      ...               36805   \n",
      "2      ...               15139   \n",
      "3      ...               19975   \n",
      "4      ...               24276   \n",
      "5      ...               18565   \n",
      "6      ...               32132   \n",
      "7      ...               36764   \n",
      "8      ...              133372   \n",
      "9      ...               40125   \n",
      "10     ...               25080   \n",
      "11     ...               28592   \n",
      "12     ...                 828   \n",
      "13     ...                1109   \n",
      "14     ...               14728   \n",
      "15     ...               41291   \n",
      "16     ...               14917   \n",
      "17     ...               11109   \n",
      "18     ...               16659   \n",
      "19     ...               12179   \n",
      "\n",
      "                                          subscribers             tags  \\\n",
      "0   [{'defaultAvatar': False, 'province': 440000, ...     [华语, 流行, 治愈]   \n",
      "1   [{'defaultAvatar': True, 'province': 430000, '...         [华语, 学习]   \n",
      "2   [{'defaultAvatar': False, 'province': 370000, ...     [欧美, 清新, 快乐]   \n",
      "3   [{'defaultAvatar': False, 'province': 130000, ...     [华语, 流行, 思念]   \n",
      "4   [{'defaultAvatar': False, 'province': 220000, ...     [华语, 流行, 伤感]   \n",
      "5   [{'defaultAvatar': False, 'province': 360000, ...     [华语, 欧美, 感动]   \n",
      "6                                                  []  [民谣, 另类/独立, 华语]   \n",
      "7   [{'defaultAvatar': False, 'province': 450000, ...     [华语, 说唱, 兴奋]   \n",
      "8   [{'defaultAvatar': False, 'province': 450000, ...     [华语, 翻唱, 民谣]   \n",
      "9   [{'defaultAvatar': False, 'province': 310000, ...     [韩语, 流行, 治愈]   \n",
      "10  [{'defaultAvatar': False, 'province': 110000, ...     [华语, 流行, 安静]   \n",
      "11  [{'defaultAvatar': True, 'province': 370000, '...     [华语, 流行, 民谣]   \n",
      "12  [{'defaultAvatar': False, 'province': 440000, ...    [轻音乐, 夜晚, 孤独]   \n",
      "13  [{'defaultAvatar': False, 'province': 320000, ...        [轻音乐, 放松]   \n",
      "14  [{'defaultAvatar': False, 'province': 320000, ...     [治愈, 放松, 欧美]   \n",
      "15  [{'defaultAvatar': False, 'province': 520000, ...     [华语, 流行, 浪漫]   \n",
      "16  [{'defaultAvatar': False, 'province': 150000, ...     [欧美, 孤独, 夜晚]   \n",
      "17  [{'defaultAvatar': False, 'province': 350000, ...     [日语, 民谣, 清新]   \n",
      "18  [{'defaultAvatar': False, 'province': 340000, ...    [日语, ACG, 感动]   \n",
      "19  [{'defaultAvatar': False, 'province': 330000, ...     [日语, 清新, 快乐]   \n",
      "\n",
      "    totalDuration trackCount  trackNumberUpdateTime  trackUpdateTime  tracks  \\\n",
      "0               0         43          1540176152147    1546744947197    None   \n",
      "1               0         35          1544088498706    1546225852784    None   \n",
      "2               0         33          1545492865610    1545970849436    None   \n",
      "3               0         46          1546601790913    1546601815081    None   \n",
      "4               0         40          1546516223813    1547005423602    None   \n",
      "5               0         60          1547110595196    1547136216446    None   \n",
      "6               0        100          1547102671532    1547102687632    None   \n",
      "7               0         42          1546570093408    1546835354921    None   \n",
      "8               0         22          1545494823394    1546846984963    None   \n",
      "9               0         26          1545459603519    1545459615572    None   \n",
      "10              0         28          1545388701033    1545956549733    None   \n",
      "11              0         65          1546421094812    1547017582314    None   \n",
      "12              0         35          1547009798018    1547010007677    None   \n",
      "13              0         66          1544437802385    1547178209217    None   \n",
      "14              0         21          1542973084038    1545206249153    None   \n",
      "15              0         66          1547111322781    1547133078285    None   \n",
      "16              0         86          1546671425491    1547174518505    None   \n",
      "17              0         82          1545989453136    1546954333317    None   \n",
      "18              0         15          1546358867229    1547033933909    None   \n",
      "19              0         37          1541819058858    1546956368836    None   \n",
      "\n",
      "       updateTime      userId  \n",
      "0   1540176152147    49341371  \n",
      "1   1544088498706    59291942  \n",
      "2   1545492865610     2936282  \n",
      "3   1546601790913   450639585  \n",
      "4   1546765540213  1552777579  \n",
      "5   1547110607167  1418275670  \n",
      "6   1547102671532   317658815  \n",
      "7   1546570093408      201586  \n",
      "8   1545494823394   414221496  \n",
      "9   1545459603519   119754445  \n",
      "10  1545388701033  1489554923  \n",
      "11  1546421094812   108952364  \n",
      "12  1547009798018   251729736  \n",
      "13  1544437802385  1402660848  \n",
      "14  1542973084038    95142402  \n",
      "15  1547111322781   326263822  \n",
      "16  1546671425491  1496922189  \n",
      "17  1546613488557    39714273  \n",
      "18  1546358867229   316344609  \n",
      "19  1541819058858   542248693  \n",
      "\n",
      "[20 rows x 33 columns]>\n"
     ]
    }
   ],
   "source": [
    "print(data1.head)"
   ]
  },
  {
   "cell_type": "code",
   "execution_count": null,
   "metadata": {
    "collapsed": true
   },
   "outputs": [],
   "source": []
  },
  {
   "cell_type": "code",
   "execution_count": 9,
   "metadata": {},
   "outputs": [
    {
     "ename": "SyntaxError",
     "evalue": "invalid syntax (<ipython-input-9-4243ed498ef5>, line 1)",
     "output_type": "error",
     "traceback": [
      "\u001b[1;36m  File \u001b[1;32m\"<ipython-input-9-4243ed498ef5>\"\u001b[1;36m, line \u001b[1;32m1\u001b[0m\n\u001b[1;33m    jupyter notebook --generate-config\u001b[0m\n\u001b[1;37m                   ^\u001b[0m\n\u001b[1;31mSyntaxError\u001b[0m\u001b[1;31m:\u001b[0m invalid syntax\n"
     ]
    }
   ],
   "source": []
  },
  {
   "cell_type": "code",
   "execution_count": 11,
   "metadata": {},
   "outputs": [
    {
     "ename": "SyntaxError",
     "evalue": "invalid syntax (<ipython-input-11-661ac8cce439>, line 1)",
     "output_type": "error",
     "traceback": [
      "\u001b[1;36m  File \u001b[1;32m\"<ipython-input-11-661ac8cce439>\"\u001b[1;36m, line \u001b[1;32m1\u001b[0m\n\u001b[1;33m    jupyter notebook 'G:'\u001b[0m\n\u001b[1;37m                   ^\u001b[0m\n\u001b[1;31mSyntaxError\u001b[0m\u001b[1;31m:\u001b[0m invalid syntax\n"
     ]
    }
   ],
   "source": [
    "jupyter notebook 'G:'"
   ]
  },
  {
   "cell_type": "code",
   "execution_count": null,
   "metadata": {
    "collapsed": true
   },
   "outputs": [],
   "source": []
  }
 ],
 "metadata": {
  "kernelspec": {
   "display_name": "Python 3",
   "language": "python",
   "name": "python3"
  },
  "language_info": {
   "codemirror_mode": {
    "name": "ipython",
    "version": 3
   },
   "file_extension": ".py",
   "mimetype": "text/x-python",
   "name": "python",
   "nbconvert_exporter": "python",
   "pygments_lexer": "ipython3",
   "version": "3.6.2"
  }
 },
 "nbformat": 4,
 "nbformat_minor": 2
}
